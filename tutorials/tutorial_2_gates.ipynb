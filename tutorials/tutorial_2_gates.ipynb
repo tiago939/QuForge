{
 "cells": [
  {
   "cell_type": "markdown",
   "id": "06e042be-a393-4c61-85c0-dda5aa751d34",
   "metadata": {},
   "source": [
    "# Quantum Gates\n",
    "\n",
    "In this tutorial, we will learn about how to build and apply quantum gates.\n",
    "\n",
    "First, we will import the necessary libraries."
   ]
  },
  {
   "cell_type": "code",
   "execution_count": 4,
   "id": "cea177f4-cc74-4626-b688-630ef208df1c",
   "metadata": {},
   "outputs": [],
   "source": [
    "import quforge.quforge as qf\n",
    "import quforge.statevector as sv\n",
    "from IPython.display import Math"
   ]
  },
  {
   "cell_type": "markdown",
   "id": "9bb88fe0-2103-42e4-ad7e-af68a8081776",
   "metadata": {},
   "source": [
    "The core of the QuForge library lies in its ability to create quantum gates for qudits with any dimension. \n",
    "You just need to specify which gate and dimension you want to use.\n",
    "\n",
    "One of the most fundamental quantum gates is the Hadamard gate, sometimes called the Fourier gate for qudits.\n",
    "To create a quantum gate we call it as:"
   ]
  },
  {
   "cell_type": "code",
   "execution_count": 2,
   "id": "7796111b-4115-469d-ab39-5c6e3bdec710",
   "metadata": {},
   "outputs": [],
   "source": [
    "gate = qf.H(dim=2)"
   ]
  },
  {
   "cell_type": "markdown",
   "id": "d26f6f0d-e31c-4bd8-b6ac-a786fb887477",
   "metadata": {},
   "source": [
    "We can visualize the matrix representation of the gate with:"
   ]
  },
  {
   "cell_type": "code",
   "execution_count": 3,
   "id": "9b948821-3501-4dbb-89dd-2cc291104250",
   "metadata": {},
   "outputs": [
    {
     "name": "stdout",
     "output_type": "stream",
     "text": [
      "tensor([[ 0.7071+0.0000e+00j,  0.7071+0.0000e+00j],\n",
      "        [ 0.7071+0.0000e+00j, -0.7071+8.6596e-17j]])\n"
     ]
    }
   ],
   "source": [
    "print(gate.matrix())"
   ]
  },
  {
   "cell_type": "markdown",
   "id": "4b632c55-7c78-442f-802f-ac7acdc4ec77",
   "metadata": {},
   "source": [
    "If we want to apply a quantum gate to a state, we pass this state to the gate:"
   ]
  },
  {
   "cell_type": "code",
   "execution_count": 5,
   "id": "1ba8ffc6-196d-4bcb-9059-e2490b76c65c",
   "metadata": {},
   "outputs": [
    {
     "data": {
      "text/latex": [
       "$\\displaystyle \\frac{\\sqrt{2}}{2}|0\\rangle + \\frac{\\sqrt{2}}{2}|1\\rangle$"
      ],
      "text/plain": [
       "<IPython.core.display.Math object>"
      ]
     },
     "execution_count": 5,
     "metadata": {},
     "output_type": "execute_result"
    }
   ],
   "source": [
    "input_state = qf.State('0', dim=2)\n",
    "\n",
    "output_state = gate(input_state)\n",
    "\n",
    "Math(sv.show(output_state, dim=2, wires=1))"
   ]
  },
  {
   "cell_type": "markdown",
   "id": "befe5f45-5b34-40d7-a4f0-d2eedd90f231",
   "metadata": {},
   "source": [
    "For a larger system, we can specify which qudit we want to apply the gate.\n",
    "\n",
    "For instance, if you have a two-qudit system and want to apply the Hadamard gate on all of them, we can use the index argument:"
   ]
  },
  {
   "cell_type": "code",
   "execution_count": 8,
   "id": "641f75d5-a2ea-42d7-b344-caf961e48903",
   "metadata": {},
   "outputs": [
    {
     "data": {
      "text/latex": [
       "$\\displaystyle \\frac{1}{3}|00\\rangle + \\frac{1}{3}|01\\rangle + \\frac{1}{3}|02\\rangle + \\frac{1}{3}|10\\rangle + \\frac{1}{3}|11\\rangle + \\frac{1}{3}|12\\rangle + \\frac{1}{3}|20\\rangle + \\frac{1}{3}|21\\rangle + \\frac{1}{3}|22\\rangle$"
      ],
      "text/plain": [
       "<IPython.core.display.Math object>"
      ]
     },
     "execution_count": 8,
     "metadata": {},
     "output_type": "execute_result"
    }
   ],
   "source": [
    "gate = qf.H(dim=3, index=[0,1])\n",
    "input_state = qf.State('0-0', dim=3)\n",
    "output_state = gate(input_state)\n",
    "Math(sv.show(output_state, dim=3, wires=2))"
   ]
  },
  {
   "cell_type": "markdown",
   "id": "cbf43385-cc1e-48ed-934c-d31a7dc48893",
   "metadata": {},
   "source": [
    "If you want to apply only to the second qudit:"
   ]
  },
  {
   "cell_type": "code",
   "execution_count": 9,
   "id": "e137949d-212a-46c3-be9f-749b322208e1",
   "metadata": {},
   "outputs": [
    {
     "data": {
      "text/latex": [
       "$\\displaystyle \\frac{\\sqrt{3}}{3}|00\\rangle + \\frac{\\sqrt{3}}{3}|01\\rangle + \\frac{\\sqrt{3}}{3}|02\\rangle$"
      ],
      "text/plain": [
       "<IPython.core.display.Math object>"
      ]
     },
     "execution_count": 9,
     "metadata": {},
     "output_type": "execute_result"
    }
   ],
   "source": [
    "gate = qf.H(dim=3, index=[1])\n",
    "input_state = qf.State('0-0', dim=3)\n",
    "output_state = gate(input_state)\n",
    "Math(sv.show(output_state, dim=3, wires=2))"
   ]
  },
  {
   "cell_type": "markdown",
   "id": "f8f41d23-5c46-4e90-8442-862ec6e3ecf7",
   "metadata": {},
   "source": [
    "Another useful gate is the rotation gate. It applies rotations on qudits, and the angle can be optimized in quantum machine learning algorithms."
   ]
  },
  {
   "cell_type": "code",
   "execution_count": 16,
   "id": "88663e85-2c6e-4d6e-8dc1-88f13b385d01",
   "metadata": {},
   "outputs": [
    {
     "data": {
      "text/latex": [
       "$\\displaystyle 0.9812|0\\rangle - 0.193|1\\rangle$"
      ],
      "text/plain": [
       "<IPython.core.display.Math object>"
      ]
     },
     "execution_count": 16,
     "metadata": {},
     "output_type": "execute_result"
    }
   ],
   "source": [
    "gate = qf.RY(dim=2)  #creates a rotation gate with a random angle value\n",
    "input_state = qf.State('0', dim=2)\n",
    "output_state = gate(input_state)\n",
    "Math(sv.show(output_state, dim=2, wires=1, use_floats=True))"
   ]
  },
  {
   "cell_type": "markdown",
   "id": "34d07648-2247-4738-8411-57a9632e7610",
   "metadata": {},
   "source": [
    "One of the most important two-qudit gates is the controlled-NOT gate. It applies the $X$ gate to a target qudit depending on the state of a control qudit.\n",
    "\n",
    "In QuForge, the CNOT gate receives the index argument as a list of two integers, where the first integer is the index of the control qudit and the second integer is the index of the target qudit."
   ]
  },
  {
   "cell_type": "code",
   "execution_count": 17,
   "id": "a5d3900a-cc4e-48d1-9736-bd8566ab1008",
   "metadata": {},
   "outputs": [
    {
     "data": {
      "text/latex": [
       "$\\displaystyle |11\\rangle$"
      ],
      "text/plain": [
       "<IPython.core.display.Math object>"
      ]
     },
     "execution_count": 17,
     "metadata": {},
     "output_type": "execute_result"
    }
   ],
   "source": [
    "gate = qf.CNOT(dim=2, wires=2, index=[0,1])\n",
    "input_state = qf.State('1-0', dim=2)\n",
    "output_state = gate(input_state)\n",
    "Math(sv.show(output_state, dim=2, wires=2))"
   ]
  },
  {
   "cell_type": "code",
   "execution_count": 18,
   "id": "42273907-bb43-4bbe-b1ad-df5be479bf6b",
   "metadata": {},
   "outputs": [
    {
     "data": {
      "text/latex": [
       "$\\displaystyle |202\\rangle$"
      ],
      "text/plain": [
       "<IPython.core.display.Math object>"
      ]
     },
     "execution_count": 18,
     "metadata": {},
     "output_type": "execute_result"
    }
   ],
   "source": [
    "gate = qf.CNOT(dim=3, wires=3, index=[2,0]) #Control is the third qudit, target is the first qudit\n",
    "input_state = qf.State('0-0-2', dim=3)\n",
    "output_state = gate(input_state)\n",
    "Math(sv.show(output_state, dim=3, wires=3))"
   ]
  },
  {
   "cell_type": "markdown",
   "id": "c0ac1862-3eaa-49c9-b1d5-13e2d2ad077e",
   "metadata": {},
   "source": [
    "QuForge also has the multi-controlled-NOT gate, where it applies the $X$ gate depending on the state of multiple control qudits.\n",
    "\n",
    "This gate receives a list of $N$ integers, where the first $N-1$ integers correspond to the control qudits, and the last integer is the target qudit index."
   ]
  },
  {
   "cell_type": "code",
   "execution_count": 19,
   "id": "dd5de0a5-7fe3-4930-b7b4-3d0b0593e11d",
   "metadata": {},
   "outputs": [
    {
     "data": {
      "text/latex": [
       "$\\displaystyle |111\\rangle$"
      ],
      "text/plain": [
       "<IPython.core.display.Math object>"
      ]
     },
     "execution_count": 19,
     "metadata": {},
     "output_type": "execute_result"
    }
   ],
   "source": [
    "gate = qf.MCX(dim=2, wires=3, index=[0,1,2]) #Control is the first and second qudit, target is the third qudit\n",
    "input_state = qf.State('1-1-0', dim=2)\n",
    "output_state = gate(input_state)\n",
    "Math(sv.show(output_state, dim=2, wires=3))"
   ]
  }
 ],
 "metadata": {
  "kernelspec": {
   "display_name": "Python 3 (ipykernel)",
   "language": "python",
   "name": "python3"
  },
  "language_info": {
   "codemirror_mode": {
    "name": "ipython",
    "version": 3
   },
   "file_extension": ".py",
   "mimetype": "text/x-python",
   "name": "python",
   "nbconvert_exporter": "python",
   "pygments_lexer": "ipython3",
   "version": "3.12.7"
  }
 },
 "nbformat": 4,
 "nbformat_minor": 5
}
