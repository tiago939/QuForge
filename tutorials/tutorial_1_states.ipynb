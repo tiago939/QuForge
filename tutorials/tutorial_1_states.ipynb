{
 "cells": [
  {
   "cell_type": "markdown",
   "id": "d43e86eb-f95d-4079-b300-939cf677c6cf",
   "metadata": {},
   "source": [
    "# Quantum States\n",
    "\n",
    "In this tutorial, we will learn how to build, visualize, and measure states.\n",
    "\n",
    "First, we will import the libraries."
   ]
  },
  {
   "cell_type": "code",
   "execution_count": 17,
   "id": "776b599a-34c9-4f2c-abe5-2318512d553f",
   "metadata": {},
   "outputs": [],
   "source": [
    "import quforge.quforge as qf\n",
    "import quforge.statevector as sv\n",
    "from IPython.display import Math\n",
    "import matplotlib.pyplot as plt"
   ]
  },
  {
   "cell_type": "markdown",
   "id": "f5b45c42-208a-45f8-9a23-29b841484ff7",
   "metadata": {},
   "source": [
    "To create a state, we must pass the string corresponding to this state.\n",
    "\n",
    "For instance, if we want to create the qubit $|0\\rangle$, then we use:"
   ]
  },
  {
   "cell_type": "code",
   "execution_count": 3,
   "id": "80a62950-964e-4168-ab74-785a54520ea3",
   "metadata": {},
   "outputs": [],
   "source": [
    "state = qf.State('0')"
   ]
  },
  {
   "cell_type": "markdown",
   "id": "cb621c12-8992-4eb2-b8a7-0ad54a48c388",
   "metadata": {},
   "source": [
    "We can print the state directly to see its corresponding state vector:"
   ]
  },
  {
   "cell_type": "code",
   "execution_count": 4,
   "id": "92a551b2-fd19-4bed-ba2f-2ff0101f8cc5",
   "metadata": {},
   "outputs": [
    {
     "name": "stdout",
     "output_type": "stream",
     "text": [
      "tensor([[1.+0.j],\n",
      "        [0.+0.j]])\n"
     ]
    }
   ],
   "source": [
    "print(state)"
   ]
  },
  {
   "cell_type": "markdown",
   "id": "42679760-9f6d-487b-a1de-c368ebe78e37",
   "metadata": {},
   "source": [
    "Or, we can use the print function from QuForge to visualize the state in latex form:"
   ]
  },
  {
   "cell_type": "code",
   "execution_count": 5,
   "id": "86f307e0-47d8-4954-be3e-5df519db0fb0",
   "metadata": {},
   "outputs": [
    {
     "data": {
      "text/latex": [
       "$\\displaystyle |0\\rangle$"
      ],
      "text/plain": [
       "<IPython.core.display.Math object>"
      ]
     },
     "execution_count": 5,
     "metadata": {},
     "output_type": "execute_result"
    }
   ],
   "source": [
    "Math(sv.show(state))"
   ]
  },
  {
   "cell_type": "markdown",
   "id": "3c81b2ec-97ca-4455-8a51-da8657f2a7c1",
   "metadata": {},
   "source": [
    "We must pass the amplitudes multiplying the corresponding states to create a quantum superposition.\n",
    "\n",
    "For instance, if we want to create $\\frac{1}{\\sqrt{2}}(|0\\rangle + |1\\rangle)$:"
   ]
  },
  {
   "cell_type": "code",
   "execution_count": 11,
   "id": "29e80239-42e8-421b-9ed6-3550d4a130a2",
   "metadata": {},
   "outputs": [
    {
     "data": {
      "text/latex": [
       "$\\displaystyle \\frac{\\sqrt{2}}{2}|0\\rangle + \\frac{\\sqrt{2}}{2}|1\\rangle$"
      ],
      "text/plain": [
       "<IPython.core.display.Math object>"
      ]
     },
     "execution_count": 11,
     "metadata": {},
     "output_type": "execute_result"
    }
   ],
   "source": [
    "state = (2**-0.5)*(qf.State('0') + qf.State('1'))\n",
    "Math(sv.show(state))"
   ]
  },
  {
   "cell_type": "markdown",
   "id": "ce129a49-a2d3-4940-9f21-df205fefa39f",
   "metadata": {},
   "source": [
    "To create a multi-qubit state, we must pass the corresponding string separated by hyphens.\n",
    "\n",
    "For instance, if we want to create the state $\\sqrt{0.75}|001\\rangle - \\sqrt{0.25}|100\\rangle$:"
   ]
  },
  {
   "cell_type": "code",
   "execution_count": 10,
   "id": "9701f74e-684f-4c65-8d01-313c95e01765",
   "metadata": {},
   "outputs": [
    {
     "data": {
      "text/latex": [
       "$\\displaystyle \\frac{\\sqrt{3}}{2}|001\\rangle -  \\frac{1}{2}|100\\rangle$"
      ],
      "text/plain": [
       "<IPython.core.display.Math object>"
      ]
     },
     "execution_count": 10,
     "metadata": {},
     "output_type": "execute_result"
    }
   ],
   "source": [
    "state = (0.75**0.5)*qf.State('0-0-1') - (0.25**0.5)*qf.State('1-0-0')\n",
    "Math(sv.show(state, wires=3))"
   ]
  },
  {
   "cell_type": "markdown",
   "id": "d978c1e1-e7d8-43e3-873e-e58ced96e8f9",
   "metadata": {},
   "source": [
    "We need to specify the dimension we are working with for a qudit system.\n",
    "\n",
    "If all qudits have the same dimension, we can use:"
   ]
  },
  {
   "cell_type": "code",
   "execution_count": 13,
   "id": "c3c271ae-4986-443d-9e13-d2f0f2d914a5",
   "metadata": {},
   "outputs": [
    {
     "data": {
      "text/latex": [
       "$\\displaystyle \\frac{\\sqrt{3}}{2}|03\\rangle + \\frac{1}{2}|12\\rangle$"
      ],
      "text/plain": [
       "<IPython.core.display.Math object>"
      ]
     },
     "execution_count": 13,
     "metadata": {},
     "output_type": "execute_result"
    }
   ],
   "source": [
    "state = (0.25**0.5)*qf.State('1-2', dim=4) + (0.75**0.5)*qf.State('0-3', dim=4)\n",
    "Math(sv.show(state, dim=4, wires=2))"
   ]
  },
  {
   "cell_type": "markdown",
   "id": "42c9fd20-5f37-49bf-afa2-e50ab5b9dcc1",
   "metadata": {},
   "source": [
    "If we have qudits with multiple dimensions, we pass a list of the corresponding dimensions in their respective order.\n",
    "\n",
    "For instance, if the first qudit has dimension four and the second qudit has dimension two, then we use:"
   ]
  },
  {
   "cell_type": "code",
   "execution_count": 14,
   "id": "34f92ae1-afa8-46fd-ac46-be7d3ba069a0",
   "metadata": {},
   "outputs": [
    {
     "data": {
      "text/latex": [
       "$\\displaystyle \\frac{\\sqrt{2}}{2}|30\\rangle + \\frac{\\sqrt{2}}{2}|31\\rangle$"
      ],
      "text/plain": [
       "<IPython.core.display.Math object>"
      ]
     },
     "execution_count": 14,
     "metadata": {},
     "output_type": "execute_result"
    }
   ],
   "source": [
    "state = (0.5**0.5)*qf.State('3-0', dim=[4,2]) + (0.5**0.5)*qf.State('3-1', dim=[4,2])\n",
    "Math(sv.show(state, dim=[4,2], wires=2))"
   ]
  },
  {
   "cell_type": "markdown",
   "id": "4e5a60b1-83cc-49ef-a577-f7284e8807fe",
   "metadata": {},
   "source": [
    "The show function from QuForge has numerous flags that allow users more control over visualizing the states.\n",
    "\n",
    "For instance, we can use the flag 'use_floats' to convert the amplitudes into a float notation:"
   ]
  },
  {
   "cell_type": "code",
   "execution_count": 16,
   "id": "33c56837-8394-4746-86dd-88d9dafb6da0",
   "metadata": {},
   "outputs": [
    {
     "data": {
      "text/latex": [
       "$\\displaystyle -0.6325|30\\rangle + 0.7746|31\\rangle$"
      ],
      "text/plain": [
       "<IPython.core.display.Math object>"
      ]
     },
     "execution_count": 16,
     "metadata": {},
     "output_type": "execute_result"
    }
   ],
   "source": [
    "state = -(0.4**0.5)*qf.State('3-0', dim=[4,2]) + (0.6**0.5)*qf.State('3-1', dim=[4,2])\n",
    "Math(sv.show(state, dim=[4,2], wires=2, use_floats=True))"
   ]
  },
  {
   "cell_type": "markdown",
   "id": "cb630908-9a4f-4c3d-af28-5becf6c31341",
   "metadata": {},
   "source": [
    "If we want to measure a state, we can use the measurement function. This function returns the histogram and the probability distribution of the state. Note that we need to specify which qudits we want to measure."
   ]
  },
  {
   "cell_type": "code",
   "execution_count": 31,
   "id": "3e343542-c63c-46b9-adbf-b3eadd3550eb",
   "metadata": {},
   "outputs": [
    {
     "name": "stdout",
     "output_type": "stream",
     "text": [
      "Histogram:\n",
      "{'00': 5008, '01': 0, '02': 0, '10': 0, '11': 3018, '12': 0, '20': 0, '21': 0, '22': 1974}\n",
      "\n",
      "\n",
      "Probability distribution\n",
      "tensor([0.5000, 0.0000, 0.0000, 0.0000, 0.3000, 0.0000, 0.0000, 0.0000, 0.2000])\n"
     ]
    }
   ],
   "source": [
    "dim = 3\n",
    "state = (0.5**0.5)*qf.State('0-0',dim=dim) + (0.3**0.5)*qf.State('1-1',dim=dim) + (0.2**0.5)*qf.State('2-2',dim=dim)\n",
    "\n",
    "histogram, distribution = sv.measure(state, dim=dim, wires=2, index=[0,1], shots=10000)\n",
    "print('Histogram:')\n",
    "print(histogram)\n",
    "print('\\n')\n",
    "print('Probability distribution')\n",
    "print(distribution)"
   ]
  },
  {
   "cell_type": "code",
   "execution_count": 32,
   "id": "1a89b533-1af4-4984-a684-fd7dbdd6449c",
   "metadata": {},
   "outputs": [
    {
     "data": {
      "text/plain": [
       "<BarContainer object of 9 artists>"
      ]
     },
     "execution_count": 32,
     "metadata": {},
     "output_type": "execute_result"
    },
    {
     "data": {
      "image/png": "[encoded data removed]",
      "text/plain": [
       "<Figure size 640x480 with 1 Axes>"
      ]
     },
     "metadata": {},
     "output_type": "display_data"
    }
   ],
   "source": [
    "keys = list(histogram.keys())\n",
    "values = list(histogram.values())\n",
    "plt.bar(keys, values)"
   ]
  }
 ],
 "metadata": {
  "kernelspec": {
   "display_name": "Python 3 (ipykernel)",
   "language": "python",
   "name": "python3"
  },
  "language_info": {
   "codemirror_mode": {
    "name": "ipython",
    "version": 3
   },
   "file_extension": ".py",
   "mimetype": "text/x-python",
   "name": "python",
   "nbconvert_exporter": "python",
   "pygments_lexer": "ipython3",
   "version": "3.12.7"
  }
 },
 "nbformat": 4,
 "nbformat_minor": 5
}
