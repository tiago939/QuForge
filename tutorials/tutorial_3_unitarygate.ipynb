{
 "cells": [
  {
   "cell_type": "markdown",
   "id": "6a983f8d-79ff-4025-86f2-9487859a409c",
   "metadata": {},
   "source": [
    "# Quantum unitary random gate\n",
    "\n",
    "In this tutorial, we will explore two special gates QuForge has: the unitary gate and the controlled unitary gate. They allow users to create random unitaries or input their own unitaries to transform a state."
   ]
  },
  {
   "cell_type": "markdown",
   "id": "062612f4-7097-4c95-9660-dbafcdf4c093",
   "metadata": {},
   "source": [
    "### Unitary Gate\n",
    "\n",
    "We can call a random unitary gate by using qf.U(), let's create a random unitary that applies a random transformation to the first qudit of a two-qudit system:"
   ]
  },
  {
   "cell_type": "code",
   "execution_count": 2,
   "id": "57f9e5e2-322d-43f3-b7b0-fa00fa0c62c2",
   "metadata": {},
   "outputs": [],
   "source": [
    "import quforge.quforge as qf\n",
    "import quforge.statevector as sv\n",
    "from IPython.display import Math\n",
    "import matplotlib.pyplot as plt"
   ]
  },
  {
   "cell_type": "code",
   "execution_count": 5,
   "id": "f8203220-3c25-43da-b265-5f6f9de5d002",
   "metadata": {},
   "outputs": [
    {
     "data": {
      "text/latex": [
       "$\\displaystyle -0.5889-0.4421i|00\\rangle - 0.2673-0.4411i|10\\rangle - 0.03854+0.4362i|20\\rangle$"
      ],
      "text/plain": [
       "<IPython.core.display.Math object>"
      ]
     },
     "execution_count": 5,
     "metadata": {},
     "output_type": "execute_result"
    }
   ],
   "source": [
    "gate = qf.U(dim=3, wires=2, index=[0])\n",
    "input_state = qf.State('0-0', dim=3)\n",
    "output_state = gate(input_state)\n",
    "\n",
    "Math(sv.show(output_state, dim=3, wires=2, use_floats=True))"
   ]
  },
  {
   "cell_type": "markdown",
   "id": "1baa1b4d-a319-4bd5-bffa-8d511b2e507f",
   "metadata": {},
   "source": [
    "We can specify the size of the unitary by choosing which indexes we will apply it.\n",
    "\n",
    "For instance, lets consider a three-qubit system and apply a random unitary to the first and third qubit:"
   ]
  },
  {
   "cell_type": "code",
   "execution_count": 7,
   "id": "41ab2636-1553-4eaa-949a-44b0e4f6240c",
   "metadata": {},
   "outputs": [
    {
     "data": {
      "text/latex": [
       "$\\displaystyle -0.4422+0.1472i|000\\rangle - 0.3993-0.211i|001\\rangle - 0.5088-0.3928i|100\\rangle + 0.2552-0.3171i|101\\rangle$"
      ],
      "text/plain": [
       "<IPython.core.display.Math object>"
      ]
     },
     "execution_count": 7,
     "metadata": {},
     "output_type": "execute_result"
    }
   ],
   "source": [
    "gate = qf.U(dim=2, wires=3, index=[0,2])\n",
    "input_state = qf.State('0-0-0', dim=2)\n",
    "output_state = gate(input_state)\n",
    "\n",
    "Math(sv.show(output_state, dim=2, wires=3, use_floats=True))"
   ]
  },
  {
   "cell_type": "markdown",
   "id": "e996352e-1ef9-4690-819b-48454060cccd",
   "metadata": {},
   "source": [
    "Users can also input any unitary matrix in the gate instead of generating a random matrix.\n",
    "\n",
    "For instance, lets input the pauli-X matrix in the unitary gate:"
   ]
  },
  {
   "cell_type": "code",
   "execution_count": 11,
   "id": "587d555e-bfcf-4d6b-a2fe-c084d8559870",
   "metadata": {},
   "outputs": [
    {
     "data": {
      "text/latex": [
       "$\\displaystyle 1|10\\rangle$"
      ],
      "text/plain": [
       "<IPython.core.display.Math object>"
      ]
     },
     "execution_count": 11,
     "metadata": {},
     "output_type": "execute_result"
    }
   ],
   "source": [
    "X = qf.X(dim=2).matrix()\n",
    "gate = qf.U(matrix=X, dim=2, wires=2, index=[0])\n",
    "input_state = qf.State('0-0', dim=2)\n",
    "output_state = gate(input_state)\n",
    "\n",
    "Math(sv.show(output_state, dim=2, wires=2, use_floats=True))"
   ]
  },
  {
   "cell_type": "markdown",
   "id": "826b6f9b-3200-4de8-8c1a-74f8e1adfd0f",
   "metadata": {},
   "source": [
    "### Controlled-Unitary Gate\n",
    "\n",
    "Another gate QuForge offers is the controlled-unitary. It applies a random unitary matrix or a unitary specified by the user, provided that the control qudit has a specific state.\n",
    "\n",
    "Let's consider, for instance, a two-qutrit system where it applies a random unitary on the second qutrit (target) if the first qutrit (control) is in some specific state:"
   ]
  },
  {
   "cell_type": "code",
   "execution_count": 17,
   "id": "99c9e71b-a0e1-4168-a611-702998455e8d",
   "metadata": {},
   "outputs": [
    {
     "data": {
      "text/latex": [
       "$\\displaystyle -0.6615-0.7011i|10\\rangle + 0.09881+0.1268i|11\\rangle - 0.1823+0.1087i|12\\rangle$"
      ],
      "text/plain": [
       "<IPython.core.display.Math object>"
      ]
     },
     "execution_count": 17,
     "metadata": {},
     "output_type": "execute_result"
    }
   ],
   "source": [
    "# Applies a random unitary to the second qudit if the first qudit is |1>\n",
    "gate = qf.CU(dim=3, wires=2, index=[0,1], control_dim = 1)\n",
    "input_state = qf.State('1-0', dim=3)\n",
    "output_state = gate(input_state)\n",
    "Math(sv.show(output_state, dim=3, wires=2, use_floats=True))"
   ]
  },
  {
   "cell_type": "code",
   "execution_count": 18,
   "id": "0124d85a-d1b2-49a6-a44d-6b78ac215957",
   "metadata": {},
   "outputs": [
    {
     "data": {
      "text/latex": [
       "$\\displaystyle 0.2911+0.3597i|00\\rangle - 0.116-0.5432i|10\\rangle - 0.145-0.6755i|20\\rangle$"
      ],
      "text/plain": [
       "<IPython.core.display.Math object>"
      ]
     },
     "execution_count": 18,
     "metadata": {},
     "output_type": "execute_result"
    }
   ],
   "source": [
    "# Applies a random unitary to the first qudit if the second qudit is |0>\n",
    "gate = qf.CU(dim=3, wires=2, index=[1,0], control_dim = 0)\n",
    "input_state = qf.State('1-0', dim=3)\n",
    "output_state = gate(input_state)\n",
    "Math(sv.show(output_state, dim=3, wires=2, use_floats=True))"
   ]
  },
  {
   "cell_type": "code",
   "execution_count": 24,
   "id": "0d670f6d-3b7f-4491-a48c-4c1e244db688",
   "metadata": {},
   "outputs": [],
   "source": [
    "# Applies a random unitary to the second qudit if the first qudit is |1> and \n",
    "# applies a different random unitary to the second qudit if the first qudit is |2>\n",
    "gate = qf.CU(dim=3, wires=2, index=[0,1], control_dim = [1,2])"
   ]
  },
  {
   "cell_type": "code",
   "execution_count": 25,
   "id": "1efc1dbe-3199-48d1-bf00-020d0c649986",
   "metadata": {},
   "outputs": [
    {
     "data": {
      "text/latex": [
       "$\\displaystyle 1|00\\rangle$"
      ],
      "text/plain": [
       "<IPython.core.display.Math object>"
      ]
     },
     "execution_count": 25,
     "metadata": {},
     "output_type": "execute_result"
    }
   ],
   "source": [
    "input_state = qf.State('0-0', dim=3)\n",
    "output_state = gate(input_state)\n",
    "Math(sv.show(output_state, dim=3, wires=2, use_floats=True))"
   ]
  },
  {
   "cell_type": "code",
   "execution_count": 21,
   "id": "cb851db7-d704-4172-838e-7683df9e0f22",
   "metadata": {},
   "outputs": [
    {
     "data": {
      "text/latex": [
       "$\\displaystyle -0.8589+0.3693i|10\\rangle - 0.2457-0.213i|11\\rangle + 0.1057+0.09469i|12\\rangle$"
      ],
      "text/plain": [
       "<IPython.core.display.Math object>"
      ]
     },
     "execution_count": 21,
     "metadata": {},
     "output_type": "execute_result"
    }
   ],
   "source": [
    "input_state = qf.State('1-0', dim=3)\n",
    "output_state = gate(input_state)\n",
    "Math(sv.show(output_state, dim=3, wires=2, use_floats=True))"
   ]
  },
  {
   "cell_type": "code",
   "execution_count": 22,
   "id": "328400be-e668-48bf-a4d4-7fb5019c4af1",
   "metadata": {},
   "outputs": [
    {
     "data": {
      "text/latex": [
       "$\\displaystyle 0.1935+0.5925i|20\\rangle + 0.1668-0.2517i|21\\rangle + 0.4731+0.5445i|22\\rangle$"
      ],
      "text/plain": [
       "<IPython.core.display.Math object>"
      ]
     },
     "execution_count": 22,
     "metadata": {},
     "output_type": "execute_result"
    }
   ],
   "source": [
    "gate = qf.CU(dim=3, wires=2, index=[0,1], control_dim = [1,2])\n",
    "input_state = qf.State('2-0', dim=3)\n",
    "output_state = gate(input_state)\n",
    "Math(sv.show(output_state, dim=3, wires=2, use_floats=True))"
   ]
  },
  {
   "cell_type": "markdown",
   "id": "1ab584f8-00d7-4257-a196-dec33b801677",
   "metadata": {},
   "source": [
    "Like the unitary gate, we can apply a random unitary to multiple qudits:"
   ]
  },
  {
   "cell_type": "code",
   "execution_count": 27,
   "id": "61385be5-a4fc-413e-a081-5e85d07d08fc",
   "metadata": {},
   "outputs": [
    {
     "data": {
      "text/latex": [
       "$\\displaystyle -0.7163-0.02213i|100\\rangle + 0.6123+0.1537i|101\\rangle - 0.2129+0.04665i|110\\rangle - 0.1792-0.09129i|111\\rangle$"
      ],
      "text/plain": [
       "<IPython.core.display.Math object>"
      ]
     },
     "execution_count": 27,
     "metadata": {},
     "output_type": "execute_result"
    }
   ],
   "source": [
    "# Applies a random unitary to the second qudit and third qudits if the first qudit is |1>\n",
    "gate = qf.CU(dim=2, wires=3, index=[0,1,2], control_dim = 1)\n",
    "\n",
    "input_state = qf.State('1-0-0', dim=2)\n",
    "output_state = gate(input_state)\n",
    "Math(sv.show(output_state, dim=2, wires=3, use_floats=True))"
   ]
  },
  {
   "cell_type": "markdown",
   "id": "c77fa1bf-36f4-4878-b6e0-1fb6b07ea03a",
   "metadata": {},
   "source": [
    "Also, like the unitary gate, we can specify a matrix:"
   ]
  },
  {
   "cell_type": "code",
   "execution_count": 34,
   "id": "d685ca57-1e5c-4695-a95d-bddac26c81a0",
   "metadata": {},
   "outputs": [
    {
     "data": {
      "text/latex": [
       "$\\displaystyle 0.5774|20\\rangle + 0.5774|21\\rangle + 0.5774|22\\rangle$"
      ],
      "text/plain": [
       "<IPython.core.display.Math object>"
      ]
     },
     "execution_count": 34,
     "metadata": {},
     "output_type": "execute_result"
    }
   ],
   "source": [
    "H = qf.H(dim=3).matrix()\n",
    "\n",
    "# Applies the Hadamard matrix on the target qudit if the control qudit is |2>\n",
    "gate = qf.CU(matrix=H, dim=3, wires=2, index=[0,1], control_dim = 2)\n",
    "\n",
    "input_state = qf.State('2-0', dim=3)\n",
    "output_state = gate(input_state)\n",
    "Math(sv.show(output_state, dim=3, wires=2, use_floats=True))"
   ]
  }
 ],
 "metadata": {
  "kernelspec": {
   "display_name": "Python 3 (ipykernel)",
   "language": "python",
   "name": "python3"
  },
  "language_info": {
   "codemirror_mode": {
    "name": "ipython",
    "version": 3
   },
   "file_extension": ".py",
   "mimetype": "text/x-python",
   "name": "python",
   "nbconvert_exporter": "python",
   "pygments_lexer": "ipython3",
   "version": "3.12.7"
  }
 },
 "nbformat": 4,
 "nbformat_minor": 5
}
