{
 "cells": [
  {
   "cell_type": "markdown",
   "id": "0a7a98ed-2567-4ca1-83bf-aa96cff89e81",
   "metadata": {},
   "source": [
    "# Iris CLASSIFIER\n",
    "### Let's build a quantum variational algorithm to classify the Iris flowers"
   ]
  },
  {
   "cell_type": "code",
   "execution_count": null,
   "id": "30114de4-89ba-4218-83fe-2fdf5ba7ab71",
   "metadata": {},
   "outputs": [],
   "source": [
    "# First, we import the libaries\n",
    "import quforge.quforge as qf\n",
    "from quforge.quforge import State as State\n",
    "import random"
   ]
  },
  {
   "cell_type": "code",
   "execution_count": null,
   "id": "3508ded9-c1e0-4b72-a749-16d036de4f37",
   "metadata": {},
   "outputs": [],
   "source": [
    "#Load the dataset\n",
    "from sklearn import datasets\n",
    "\n",
    "iris = datasets.load_iris()\n",
    "data = iris['data']\n",
    "labels = iris['target']\n",
    "\n",
    "ids = random.sample(range(len(data)), len(data))\n",
    "ids_train = ids[0:int(0.8*len(data))]\n",
    "ids_test = ids[int(0.8*len(data)):len(data)]"
   ]
  },
  {
   "cell_type": "code",
   "execution_count": null,
   "id": "a3dc8434-1041-427d-990b-f87eae31e5ae",
   "metadata": {},
   "outputs": [],
   "source": [
    "#Build the model\n",
    "\n",
    "class Circuit(qf.Module):\n",
    "    def __init__(self, dim, wires):\n",
    "        super(Circuit, self).__init__()\n",
    "\n",
    "        self.dim = dim\n",
    "        self.init = qf.H(dim=dim, index=range(wires))\n",
    "        self.encoder = qf.RZ(dim=dim, index=range(wires))\n",
    "\n",
    "        self.layers = qf.Sequential(\n",
    "            qf.RX(dim=dim, j=0, k=1, index=range(wires)),\n",
    "            qf.RX(dim=dim, j=1, k=2, index=range(wires)),\n",
    "            qf.RX(dim=dim, j=0, k=2, index=range(wires)),\n",
    "            qf.RY(dim=dim, j=0, k=1, index=range(wires)),\n",
    "            qf.RY(dim=dim, j=1, k=2, index=range(wires)),\n",
    "            qf.RY(dim=dim, j=0, k=2, index=range(wires)),\n",
    "            qf.RZ(dim=dim, j=1, index=range(wires)),\n",
    "            qf.RZ(dim=dim, j=2, index=range(wires)),\n",
    "            qf.CNOT(dim=dim, wires=wires, index=[0,1]),\n",
    "            qf.CNOT(dim=dim, wires=wires, index=[0,2]),\n",
    "            qf.CNOT(dim=dim, wires=wires, index=[0,3]),\n",
    "            qf.RX(dim=dim, j=0, k=1, index=range(wires)),\n",
    "            qf.RX(dim=dim, j=1, k=2, index=range(wires)),\n",
    "            qf.RX(dim=dim, j=0, k=2, index=range(wires)),\n",
    "            qf.RY(dim=dim, j=0, k=1, index=range(wires)),\n",
    "            qf.RY(dim=dim, j=1, k=2, index=range(wires)),\n",
    "            qf.RY(dim=dim, j=0, k=2, index=range(wires)),\n",
    "            qf.RZ(dim=dim, j=1, index=range(wires)),\n",
    "            qf.RZ(dim=dim, j=2, index=range(wires)),\n",
    "        )\n",
    "\n",
    "    def forward(self, x):\n",
    "        y = State('0-0-0-0', dim=self.dim, device=device)\n",
    "        y = self.init(y)\n",
    "        y = self.encoder(y, param=x)\n",
    "        y = self.layers(y)\n",
    "\n",
    "        return y"
   ]
  },
  {
   "cell_type": "code",
   "execution_count": null,
   "id": "c3e4c8e8-17c4-4719-b1a0-fc64198197e4",
   "metadata": {},
   "outputs": [],
   "source": [
    "#Instantiate model and optimizer\n",
    "dim = 3 #dimension of the qudit\n",
    "wires = 4\n",
    "device = 'cuda'\n",
    "\n",
    "model = Circuit(dim=dim, wires=wires).to(device)\n",
    "optimizer = qf.optim.Adam(model.parameters(), lr=0.001)"
   ]
  },
  {
   "cell_type": "code",
   "execution_count": null,
   "id": "1c7e6aa5-f25d-431d-8602-ac426043fd89",
   "metadata": {},
   "outputs": [],
   "source": [
    "#Prepare the target states\n",
    "targets = [State('1-0-0', dim=dim, device=device).flatten(), State('0-1-0', dim=dim, device=device).flatten(), State('0-0-1', dim=dim, device=device).flatten()]\n",
    "targets_arg = [qf.argmax(abs(targets[0])), qf.argmax(abs(targets[1])), qf.argmax(abs(targets[2]))]"
   ]
  },
  {
   "cell_type": "code",
   "execution_count": null,
   "id": "c5ecef5f-8462-4367-9a2d-9dc0173bfca1",
   "metadata": {},
   "outputs": [],
   "source": [
    "#Optimize the model\n",
    "for epoch in range(8):\n",
    "    acc_train = 0.0\n",
    "    acc_test = 0.0\n",
    "    \n",
    "    for k in ids_train:\n",
    "        x = data[k]\n",
    "        label = labels[k]\n",
    "        output = model(x)\n",
    "        \n",
    "        _, m = qf.measure(output, index=[0, 1, 2], dim=dim, wires=wires)\n",
    "        \n",
    "        loss = qf.mean(abs(targets[label] - m))\n",
    "        \n",
    "        optimizer.zero_grad()\n",
    "        loss.backward()\n",
    "        optimizer.step()\n",
    "\n",
    "        predict = qf.argmax(m)\n",
    "        if predict == targets_arg[label]:\n",
    "            acc_train += 1\n",
    "\n",
    "    for k in ids_test:\n",
    "        x = data[k]\n",
    "        label = labels[k]\n",
    "        output = model(x)\n",
    "        \n",
    "        _, m = qf.measure(output, index=[0, 1, 2], dim=dim, wires=wires)\n",
    "\n",
    "        predict = qf.argmax(m)\n",
    "        if predict == targets_arg[label]:\n",
    "            acc_test += 1\n",
    "    \n",
    "    acc_train = acc_train/len(ids_train)\n",
    "    acc_test = acc_test/len(ids_test)\n",
    "\n",
    "    print(epoch, acc_train, acc_test)"
   ]
  },
  {
   "cell_type": "code",
   "execution_count": null,
   "id": "92d7ee45-f2a8-4566-95d3-9eaa7759407c",
   "metadata": {},
   "outputs": [],
   "source": []
  },
  {
   "cell_type": "code",
   "execution_count": null,
   "id": "85f11268-4842-459f-8bef-e56ebfb65955",
   "metadata": {},
   "outputs": [],
   "source": []
  }
 ],
 "metadata": {
  "kernelspec": {
   "display_name": "Python 3 (ipykernel)",
   "language": "python",
   "name": "python3"
  },
  "language_info": {
   "codemirror_mode": {
    "name": "ipython",
    "version": 3
   },
   "file_extension": ".py",
   "mimetype": "text/x-python",
   "name": "python",
   "nbconvert_exporter": "python",
   "pygments_lexer": "ipython3",
   "version": "3.12.6"
  }
 },
 "nbformat": 4,
 "nbformat_minor": 5
}
