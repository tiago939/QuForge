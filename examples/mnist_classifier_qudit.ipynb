{
 "cells": [
  {
   "cell_type": "markdown",
   "id": "d59bce21-37ab-434b-83e6-5c7364ec5bf0",
   "metadata": {},
   "source": [
    "# MNIST CLASSIFIER\n",
    "### Let's build a hybrid classical-quantum algorithm to classify the digits of the MNIST dataset"
   ]
  },
  {
   "cell_type": "code",
   "execution_count": 1,
   "id": "ca03b61b-cdc1-428b-8b1a-c8f0995b4bd8",
   "metadata": {},
   "outputs": [],
   "source": [
    "# First, we import the libaries\n",
    "import sys\n",
    "\n",
    "sys.path.append('../')\n",
    "import quforge.quforge as qf\n",
    "from quforge.quforge import State as State"
   ]
  },
  {
   "cell_type": "code",
   "execution_count": 2,
   "id": "881514f4-5a6e-4433-96c0-cd3513a57aa7",
   "metadata": {},
   "outputs": [],
   "source": [
    "#Load the dataset\n",
    "import torch\n",
    "import torchvision\n",
    "import torchvision.transforms as transforms\n",
    "\n",
    "N_train = 1000 #number of samples from the training set\n",
    "N_test = 1000 #number of samples from the test set\n",
    "\n",
    "transform_train = transforms.Compose([\n",
    "    transforms.ToTensor(),\n",
    "])\n",
    "\n",
    "trainset = torchvision.datasets.MNIST(root='../../datasets/', train=True, download=True, transform=transform_train)\n",
    "indices = torch.arange(N_train)\n",
    "trainset = torch.utils.data.dataset.Subset(trainset, indices)\n",
    "trainloader = torch.utils.data.DataLoader(trainset, batch_size=1, shuffle=True, num_workers=1)\n",
    "\n",
    "testset = torchvision.datasets.MNIST(root='../../datasets/', train=False, download=True, transform=transform_train)\n",
    "indices = torch.arange(N_test)\n",
    "testset = torch.utils.data.dataset.Subset(testset, indices)\n",
    "testloader = torch.utils.data.DataLoader(testset, batch_size=1, shuffle=False, num_workers=1)"
   ]
  },
  {
   "cell_type": "code",
   "execution_count": 3,
   "id": "35a46d73-e880-4bf2-a7a2-6fa0aa71cdf0",
   "metadata": {},
   "outputs": [],
   "source": [
    "#Now, we define the hybrid model\n",
    "\n",
    "class Circuit(qf.Module):\n",
    "    def __init__(self, dim, wires):\n",
    "        super(Circuit, self).__init__()\n",
    "\n",
    "        self.encoder = qf.Sequential(\n",
    "            qf.Linear(784, 10)\n",
    "        )\n",
    "\n",
    "        self.init = qf.H(dim=dim, index=range(wires))\n",
    "        self.qencoder = qf.RZ(dim=dim, index=range(wires))\n",
    "\n",
    "        self.layers1 = qf.Sequential(\n",
    "            qf.RX(dim=dim, index=range(wires)),\n",
    "            qf.RY(dim=dim, index=range(wires)),\n",
    "            qf.RZ(dim=dim, index=range(wires)),\n",
    "        )\n",
    "\n",
    "        self.layers2 = []\n",
    "        for i in range(9):\n",
    "            self.layers2.append(qf.CNOT(dim=dim, wires=wires, index=[0,1]))\n",
    "        self.layers2 = qf.ModuleList(self.layers2)\n",
    "\n",
    "        self.layers3 = qf.Sequential(\n",
    "            qf.RX(dim=dim, index=range(wires)),\n",
    "            qf.RY(dim=dim, index=range(wires)),\n",
    "            qf.RZ(dim=dim, index=range(wires)),\n",
    "        )\n",
    "\n",
    "    def forward(self, x):\n",
    "        x = x.reshape((1, 784))\n",
    "        x = self.encoder(x)\n",
    "        x = x.flatten()\n",
    "\n",
    "        y = State('0-0-0-0-0-0-0-0-0-0', device=x.device)\n",
    "        y = self.init(y)\n",
    "        y = self.qencoder(y, param=x)\n",
    "        y = self.layers1(y)\n",
    "        for i in range(9):\n",
    "            y = self.layers2[i](y)\n",
    "        y = self.layers3(y)\n",
    "\n",
    "        return y "
   ]
  },
  {
   "cell_type": "code",
   "execution_count": 4,
   "id": "63269ddb-3b2c-4b67-bd3e-ce4457f1ca59",
   "metadata": {},
   "outputs": [],
   "source": [
    "#Instatiate the circuit and define the optimizer\n",
    "device = 'cuda'\n",
    "model = Circuit(dim=2, wires=10).to(device)\n",
    "optimizer = qf.optim.Adam(model.parameters(), lr=0.001, betas=(0.9,0.999))"
   ]
  },
  {
   "cell_type": "code",
   "execution_count": 5,
   "id": "53762300-a706-4cc4-8dca-e0edd2dc1f9a",
   "metadata": {},
   "outputs": [],
   "source": [
    "#Define the target states\n",
    "targets = []\n",
    "for i in range(10):\n",
    "    state = ''\n",
    "    for j in range(10):\n",
    "        if j == i:\n",
    "            state += '1'\n",
    "        else:\n",
    "            state += '0'\n",
    "        if j < 9:\n",
    "            state += '-'\n",
    "    targets.append(State(state, dim=2, device=device))\n",
    "\n",
    "targets_arg = []\n",
    "for i in range(10):\n",
    "    targets_arg.append(torch.argmax(abs(targets[i])))"
   ]
  },
  {
   "cell_type": "code",
   "execution_count": 6,
   "id": "159fd4fb-d1a9-4c3e-8090-e4e847b16a47",
   "metadata": {},
   "outputs": [
    {
     "name": "stdout",
     "output_type": "stream",
     "text": [
      "0 0.489 0.478\n"
     ]
    }
   ],
   "source": [
    "#Let's train the model\n",
    "for epoch in range(8):\n",
    "    acc_train = 0\n",
    "    acc_test = 0\n",
    "    for batch_idx, (inputs, labels) in enumerate(trainloader):\n",
    "        inputs = inputs.to(device)\n",
    "\n",
    "        output = model(inputs)\n",
    "        target = targets[labels[0]].reshape(output.shape)\n",
    "        F = qf.fidelity(target, output)\n",
    "        loss = (1-F)**2\n",
    "\n",
    "        optimizer.zero_grad()\n",
    "        loss.backward()\n",
    "        optimizer.step()\n",
    "\n",
    "        _, m = qf.measure(output, index=range(10), dim=2)\n",
    "        predict = torch.argmax(m).item()\n",
    "        if predict == targets_arg[labels[0]]:\n",
    "            acc_train += 1\n",
    "\n",
    "    with torch.no_grad():\n",
    "        for batch_idx, (inputs, labels) in enumerate(testloader):\n",
    "            inputs = inputs.to(device)\n",
    "            output = model(inputs)\n",
    "            _, m = qf.measure(output, index=range(10), dim=2)\n",
    "\n",
    "            predict = torch.argmax(m)\n",
    "            if predict == targets_arg[labels[0]]:\n",
    "                acc_test += 1\n",
    "\n",
    "    acc_train = acc_train/N_train\n",
    "    acc_test = acc_test/N_test\n",
    "    print(epoch, acc_train, acc_test)"
   ]
  },
  {
   "cell_type": "code",
   "execution_count": null,
   "id": "fc2646f1-a770-433b-b66e-44a742b4e226",
   "metadata": {},
   "outputs": [],
   "source": []
  }
 ],
 "metadata": {
  "kernelspec": {
   "display_name": "Python 3 (ipykernel)",
   "language": "python",
   "name": "python3"
  },
  "language_info": {
   "codemirror_mode": {
    "name": "ipython",
    "version": 3
   },
   "file_extension": ".py",
   "mimetype": "text/x-python",
   "name": "python",
   "nbconvert_exporter": "python",
   "pygments_lexer": "ipython3",
   "version": "3.12.5"
  }
 },
 "nbformat": 4,
 "nbformat_minor": 5
}
