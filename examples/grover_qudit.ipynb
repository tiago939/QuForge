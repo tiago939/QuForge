{
 "cells": [
  {
   "cell_type": "code",
   "execution_count": 12,
   "id": "41c81097-ceae-47f0-8a23-bb9d07e880c2",
   "metadata": {},
   "outputs": [],
   "source": [
    "# First, we import the libaries\n",
    "import quforge.quforge as qf"
   ]
  },
  {
   "cell_type": "code",
   "execution_count": 42,
   "id": "e852837d-8fd3-4588-9600-454fe3f7a512",
   "metadata": {},
   "outputs": [],
   "source": [
    "device = 'cpu'\n",
    "\n",
    "dim = 3 #dimension of the qudit\n",
    "wires = 2 #number of qudits"
   ]
  },
  {
   "cell_type": "code",
   "execution_count": 43,
   "id": "90fd3923-fd7d-40dc-8abc-80a2636b1d9c",
   "metadata": {},
   "outputs": [],
   "source": [
    "# Define oracle\n",
    "def oracle(circuit, marker): \n",
    "    state = qf.State(marker, dim=dim, device=device)\n",
    "    target_state = state @ state.conj().T\n",
    "\n",
    "    U = qf.eye(dim**wires, device=device) - 2 * target_state\n",
    "    circuit.U(matrix=U, index=[0,1])\n",
    "\n",
    "# Define the Grover diffusion step\n",
    "def grover_diffusion(circuit, state): \n",
    "    U = 2 * state @ state.conj().T - qf.eye(dim**wires, device=device)\n",
    "    circuit.U(matrix=U, index=[0,1])"
   ]
  },
  {
   "cell_type": "code",
   "execution_count": 44,
   "id": "9f62b784-c512-4b30-80bf-fb2447e73397",
   "metadata": {},
   "outputs": [],
   "source": [
    "# Apply Hadamard on each qudit\n",
    "input_state = qf.State('0-0', \n",
    "                       dim=dim, \n",
    "                       device=device)\n",
    "H = qf.H(dim=dim, \n",
    "         wires=wires, \n",
    "         index=[0,1], \n",
    "         device=device)\n",
    "\n",
    "state = H(input_state)\n",
    "\n",
    "# Create circuit\n",
    "circuit = qf.Circuit(dim=dim, \n",
    "                     wires=wires, \n",
    "                     device=device)\n",
    "\n",
    "# Apply the oracle, in this example, we want to find the state |22>\n",
    "oracle(circuit, '2-2') \n",
    "\n",
    "# Apply the diffusion\n",
    "grover_diffusion(circuit, state)"
   ]
  },
  {
   "cell_type": "code",
   "execution_count": 45,
   "id": "6dbe3f5e-6ac0-4d59-9679-4a3207e203c4",
   "metadata": {},
   "outputs": [],
   "source": [
    "# Apply the circuit on the initial state\n",
    "output = circuit(state)\n",
    "\n",
    "# Measure the first N-1 qudits\n",
    "histogram, p = qf.measure(output, \n",
    "                          index=register, \n",
    "                          dim=dim, \n",
    "                          wires=wires,\n",
    "                          shots=10000\n",
    "                          )"
   ]
  },
  {
   "cell_type": "code",
   "execution_count": 46,
   "id": "d4883e4d-bf62-4e15-b1ee-ea55123261b7",
   "metadata": {},
   "outputs": [],
   "source": [
    "histogram, p = qf.measure(output, index=[0,1], dim=dim, wires=wires, shots=1024)"
   ]
  },
  {
   "cell_type": "code",
   "execution_count": 47,
   "id": "94d91bb3-6a4c-45c2-b055-f0f74cd7a05e",
   "metadata": {},
   "outputs": [
    {
     "data": {
      "text/plain": [
       "<BarContainer object of 9 artists>"
      ]
     },
     "execution_count": 47,
     "metadata": {},
     "output_type": "execute_result"
    },
    {
     "data": {
      "image/png": "[encoded data removed]",
      "text/plain": [
       "<Figure size 640x480 with 1 Axes>"
      ]
     },
     "metadata": {},
     "output_type": "display_data"
    }
   ],
   "source": [
    "import matplotlib.pyplot as plt\n",
    "\n",
    "keys = list(histogram.keys())\n",
    "values = list(histogram.values())\n",
    "\n",
    "plt.bar(keys, values)"
   ]
  }
 ],
 "metadata": {
  "kernelspec": {
   "display_name": "Python 3 (ipykernel)",
   "language": "python",
   "name": "python3"
  },
  "language_info": {
   "codemirror_mode": {
    "name": "ipython",
    "version": 3
   },
   "file_extension": ".py",
   "mimetype": "text/x-python",
   "name": "python",
   "nbconvert_exporter": "python",
   "pygments_lexer": "ipython3",
   "version": "3.12.7"
  }
 },
 "nbformat": 4,
 "nbformat_minor": 5
}
