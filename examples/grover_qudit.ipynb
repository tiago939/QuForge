{
 "cells": [
  {
   "cell_type": "code",
   "execution_count": 7,
   "id": "41c81097-ceae-47f0-8a23-bb9d07e880c2",
   "metadata": {},
   "outputs": [],
   "source": [
    "# First, we import the libaries\n",
    "import quforge.quforge as qf\n",
    "from quforge.quforge import State as State"
   ]
  },
  {
   "cell_type": "code",
   "execution_count": 8,
   "id": "e852837d-8fd3-4588-9600-454fe3f7a512",
   "metadata": {},
   "outputs": [],
   "source": [
    "device = 'cpu'\n",
    "\n",
    "dim = 3 #dimension of the qudit\n",
    "wires = 2 #number of qudits"
   ]
  },
  {
   "cell_type": "code",
   "execution_count": 9,
   "id": "90fd3923-fd7d-40dc-8abc-80a2636b1d9c",
   "metadata": {},
   "outputs": [],
   "source": [
    "#define the oracle\n",
    "def oracle(circuit, register, marked_state): \n",
    "    basis = qf.zeros(9, 1, device=device)\n",
    "    basis[8][0] = 1.0\n",
    "    target_state = basis @ basis.T\n",
    "\n",
    "    U = qf.kron(qf.eye(dim), qf.eye(dim)) - 2*target_state\n",
    "    circuit.Custom(M=U)\n",
    "\n",
    "#define the Grover diffusion step\n",
    "def grover_diffusion(circuit, register): \n",
    "    basis = qf.ones(dim**wires, 1, device=device)/((dim**wires)**0.5)\n",
    "    U = 2*basis@basis.T - qf.eye(9)\n",
    "    circuit.Custom(M=U)\n",
    "\n",
    "#define circuit\n",
    "circuit = qf.Circuit(dim=dim, wires=wires, device=device)\n",
    "register = [i for i in range(wires)]"
   ]
  },
  {
   "cell_type": "code",
   "execution_count": 10,
   "id": "9f62b784-c512-4b30-80bf-fb2447e73397",
   "metadata": {},
   "outputs": [
    {
     "name": "stdout",
     "output_type": "stream",
     "text": [
      "tensor([[0.1852+0.j],\n",
      "        [0.1852+0.j],\n",
      "        [0.1852+0.j],\n",
      "        [0.1852+0.j],\n",
      "        [0.1852+0.j],\n",
      "        [0.1852+0.j],\n",
      "        [0.1852+0.j],\n",
      "        [0.1852+0.j],\n",
      "        [0.8519+0.j]])\n"
     ]
    }
   ],
   "source": [
    "#apply Haddamard on each qudit\n",
    "circuit.H(index=register)\n",
    "\n",
    "#apply Grover's algorithm\n",
    "num_iterations = int(round((2 ** 3) ** 0.5)) \n",
    "for i in range(1): \n",
    "    # Apply the oracle\n",
    "    oracle(circuit, register, '22') \n",
    "\n",
    "    #Apply the diffusion\n",
    "    grover_diffusion(circuit, register)\n",
    "\n",
    "#initial state\n",
    "state = State('0-0', dim=dim)\n",
    "\n",
    "#Apply the circuit on the initial state\n",
    "output = circuit(state)\n",
    "print(output)"
   ]
  },
  {
   "cell_type": "code",
   "execution_count": 12,
   "id": "6dbe3f5e-6ac0-4d59-9679-4a3207e203c4",
   "metadata": {},
   "outputs": [
    {
     "name": "stdout",
     "output_type": "stream",
     "text": [
      "{'00': 33, '01': 42, '02': 33, '10': 33, '11': 35, '12': 31, '20': 37, '21': 31, '22': 725}\n",
      "tensor([0.0343, 0.0343, 0.0343, 0.0343, 0.0343, 0.0343, 0.0343, 0.0343, 0.7257])\n"
     ]
    }
   ],
   "source": [
    "#Measure the first N-1 qudits\n",
    "histogram, p = qf.measure(output, index=register, dim=dim, shots=1000)\n",
    "\n",
    "print(histogram)\n",
    "print(p)"
   ]
  },
  {
   "cell_type": "code",
   "execution_count": null,
   "id": "d4883e4d-bf62-4e15-b1ee-ea55123261b7",
   "metadata": {},
   "outputs": [],
   "source": []
  }
 ],
 "metadata": {
  "kernelspec": {
   "display_name": "Python 3 (ipykernel)",
   "language": "python",
   "name": "python3"
  },
  "language_info": {
   "codemirror_mode": {
    "name": "ipython",
    "version": 3
   },
   "file_extension": ".py",
   "mimetype": "text/x-python",
   "name": "python",
   "nbconvert_exporter": "python",
   "pygments_lexer": "ipython3",
   "version": "3.12.5"
  }
 },
 "nbformat": 4,
 "nbformat_minor": 5
}
