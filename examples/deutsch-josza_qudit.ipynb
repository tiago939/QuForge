{
 "cells": [
  {
   "cell_type": "markdown",
   "id": "f13ecfc5-fbf0-4afe-91fd-a090208f9e0e",
   "metadata": {},
   "source": [
    "# Deutsch-Josza algorithm for qudits"
   ]
  },
  {
   "cell_type": "code",
   "execution_count": 1,
   "id": "30630104-e33e-465f-831c-f47c9fca9263",
   "metadata": {},
   "outputs": [],
   "source": [
    "First, we import the libaries\n",
    "import quforge.quforge as qf\n",
    "from quforge.quforge import State as State"
   ]
  },
  {
   "cell_type": "code",
   "execution_count": 2,
   "id": "8c7a48a0-5892-4229-a181-06193ac7afcd",
   "metadata": {},
   "outputs": [],
   "source": [
    "device = 'cpu'\n",
    "\n",
    "dim = 2 #dimension of the qudit\n",
    "wires = 4 #number of qudits"
   ]
  },
  {
   "cell_type": "code",
   "execution_count": 3,
   "id": "78d64d6d-5137-41a5-a078-5dfee136fc53",
   "metadata": {},
   "outputs": [],
   "source": [
    "#define oracle\n",
    "def oracle(model, mode='constant'):\n",
    "    if mode == 'constant':\n",
    "        model.X(index=[wires-1])\n",
    "    else:\n",
    "        model.CNOT(index=[2,3])\n",
    "    return model\n",
    "\n",
    "#define circuit\n",
    "circuit = qf.Circuit(dim=dim, wires=wires, device=device)\n",
    "circuit.H(index=range(wires))\n",
    "\n",
    "#apply oracle\n",
    "oracle(circuit, mode='constant')\n",
    "\n",
    "# Hadamard on the first N-1 qudits\n",
    "circuit.H(index=range(wires-1))"
   ]
  },
  {
   "cell_type": "code",
   "execution_count": 4,
   "id": "5a7948dc-a364-432c-bf82-30e966f11b0f",
   "metadata": {},
   "outputs": [],
   "source": [
    "#initial state\n",
    "state = ''\n",
    "for i in range(wires-1):\n",
    "    state += '0-'\n",
    "state += '%i' % (dim-1)\n",
    "state = State(state, dim=dim)"
   ]
  },
  {
   "cell_type": "code",
   "execution_count": 7,
   "id": "3e973754-cc1a-4af8-9304-3d0044c95a2b",
   "metadata": {},
   "outputs": [
    {
     "name": "stdout",
     "output_type": "stream",
     "text": [
      "{'000': 1024, '001': 0, '010': 0, '011': 0, '100': 0, '101': 0, '110': 0, '111': 0}\n",
      "The function is constant\n"
     ]
    }
   ],
   "source": [
    "#Apply initial state in the circuit\n",
    "output = circuit(state)\n",
    "\n",
    "#Measure the first N-1 qudits\n",
    "histogram, p = qf.measure(output, index=range(wires-1), dim=dim, wires=wires, shots=1024)\n",
    "\n",
    "print(histogram)\n",
    "if p[0] == 1:\n",
    "    print('The function is constant')\n",
    "else:\n",
    "    print('The function is balanced')"
   ]
  },
  {
   "cell_type": "code",
   "execution_count": 8,
   "id": "d215fc1d-2cc8-416f-94d5-1982bdfe6135",
   "metadata": {},
   "outputs": [
    {
     "data": {
      "text/plain": [
       "<BarContainer object of 8 artists>"
      ]
     },
     "execution_count": 8,
     "metadata": {},
     "output_type": "execute_result"
    },
    {
     "data": {
      "image/png": "[encoded data removed]",
      "text/plain": [
       "<Figure size 640x480 with 1 Axes>"
      ]
     },
     "metadata": {},
     "output_type": "display_data"
    }
   ],
   "source": [
    "import matplotlib.pyplot as plt\n",
    "\n",
    "keys = list(histogram.keys())\n",
    "values = list(histogram.values())\n",
    "\n",
    "plt.bar(keys, values)"
   ]
  },
  {
   "cell_type": "code",
   "execution_count": null,
   "id": "5245320f-ebb6-4e90-bf12-d2437baae716",
   "metadata": {},
   "outputs": [],
   "source": []
  }
 ],
 "metadata": {
  "kernelspec": {
   "display_name": "Python 3 (ipykernel)",
   "language": "python",
   "name": "python3"
  },
  "language_info": {
   "codemirror_mode": {
    "name": "ipython",
    "version": 3
   },
   "file_extension": ".py",
   "mimetype": "text/x-python",
   "name": "python",
   "nbconvert_exporter": "python",
   "pygments_lexer": "ipython3",
   "version": "3.12.5"
  }
 },
 "nbformat": 4,
 "nbformat_minor": 5
}
