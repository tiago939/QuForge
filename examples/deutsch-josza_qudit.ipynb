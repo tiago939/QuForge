{
 "cells": [
  {
   "cell_type": "markdown",
   "id": "f13ecfc5-fbf0-4afe-91fd-a090208f9e0e",
   "metadata": {},
   "source": [
    "# Deutsch-Josza algorithm for qudits"
   ]
  },
  {
   "cell_type": "code",
   "execution_count": 14,
   "id": "30630104-e33e-465f-831c-f47c9fca9263",
   "metadata": {},
   "outputs": [],
   "source": [
    "#First, we import the libaries\n",
    "import quforge.quforge as qf"
   ]
  },
  {
   "cell_type": "code",
   "execution_count": 25,
   "id": "8c7a48a0-5892-4229-a181-06193ac7afcd",
   "metadata": {},
   "outputs": [],
   "source": [
    "device = 'cpu'\n",
    "\n",
    "dim = 3 #dimension of the qudit\n",
    "wires = 4 #number of qudits"
   ]
  },
  {
   "cell_type": "code",
   "execution_count": 26,
   "id": "78d64d6d-5137-41a5-a078-5dfee136fc53",
   "metadata": {},
   "outputs": [],
   "source": [
    "# Define oracle\n",
    "def oracle(model, mode='constant'):\n",
    "    if mode == 'constant':\n",
    "        model.X(index=[wires-1])\n",
    "    else:\n",
    "        model.CNOT(index=[2,3])\n",
    "    return model\n",
    "\n",
    "# Define circuit\n",
    "circuit = qf.Circuit(dim=dim, \n",
    "                     wires=wires, \n",
    "                     device=device)\n",
    "circuit.H(index=range(wires))\n",
    "\n",
    "# Apply oracle\n",
    "oracle(circuit, mode='constant')\n",
    "\n",
    "# Hadamard on the first N-1 qudits\n",
    "circuit.H(index=range(wires-1))"
   ]
  },
  {
   "cell_type": "code",
   "execution_count": 27,
   "id": "5a7948dc-a364-432c-bf82-30e966f11b0f",
   "metadata": {},
   "outputs": [],
   "source": [
    "# Initial state\n",
    "state = ''\n",
    "for i in range(wires-1):\n",
    "    state += '0-'\n",
    "state += '%i' % (dim-1)\n",
    "state = qf.State(state, dim=dim, device=device)"
   ]
  },
  {
   "cell_type": "code",
   "execution_count": 28,
   "id": "3e973754-cc1a-4af8-9304-3d0044c95a2b",
   "metadata": {},
   "outputs": [
    {
     "name": "stdout",
     "output_type": "stream",
     "text": [
      "{'000': 1024, '001': 0, '002': 0, '010': 0, '011': 0, '012': 0, '020': 0, '021': 0, '022': 0, '100': 0, '101': 0, '102': 0, '110': 0, '111': 0, '112': 0, '120': 0, '121': 0, '122': 0, '200': 0, '201': 0, '202': 0, '210': 0, '211': 0, '212': 0, '220': 0, '221': 0, '222': 0}\n",
      "The function is constant\n"
     ]
    }
   ],
   "source": [
    "# Apply the initial state in the circuit\n",
    "output = circuit(state)\n",
    "\n",
    "# Measure the first N-1 qudits\n",
    "histogram, p = qf.measure(output, \n",
    "                          index=range(wires-1), \n",
    "                          dim=dim, \n",
    "                          wires=wires, \n",
    "                          shots=1024)\n",
    "\n",
    "print(histogram)\n",
    "if p[0] == 1:\n",
    "    print('The function is constant')\n",
    "else:\n",
    "    print('The function is balanced')"
   ]
  },
  {
   "cell_type": "code",
   "execution_count": 29,
   "id": "d215fc1d-2cc8-416f-94d5-1982bdfe6135",
   "metadata": {},
   "outputs": [
    {
     "data": {
      "text/plain": [
       "<BarContainer object of 27 artists>"
      ]
     },
     "execution_count": 29,
     "metadata": {},
     "output_type": "execute_result"
    },
    {
     "data": {
      "image/png": "[encoded data removed]",
      "text/plain": [
       "<Figure size 640x480 with 1 Axes>"
      ]
     },
     "metadata": {},
     "output_type": "display_data"
    }
   ],
   "source": [
    "import matplotlib.pyplot as plt\n",
    "\n",
    "keys = list(histogram.keys())\n",
    "values = list(histogram.values())\n",
    "\n",
    "plt.bar(keys, values)"
   ]
  },
  {
   "cell_type": "code",
   "execution_count": null,
   "id": "2b658d68-f346-4c8b-8907-6463d92db997",
   "metadata": {},
   "outputs": [],
   "source": []
  },
  {
   "cell_type": "code",
   "execution_count": null,
   "id": "90bc94fd-9014-4621-ad0a-e5184a8308ba",
   "metadata": {},
   "outputs": [],
   "source": []
  }
 ],
 "metadata": {
  "kernelspec": {
   "display_name": "Python 3 (ipykernel)",
   "language": "python",
   "name": "python3"
  },
  "language_info": {
   "codemirror_mode": {
    "name": "ipython",
    "version": 3
   },
   "file_extension": ".py",
   "mimetype": "text/x-python",
   "name": "python",
   "nbconvert_exporter": "python",
   "pygments_lexer": "ipython3",
   "version": "3.12.7"
  }
 },
 "nbformat": 4,
 "nbformat_minor": 5
}
